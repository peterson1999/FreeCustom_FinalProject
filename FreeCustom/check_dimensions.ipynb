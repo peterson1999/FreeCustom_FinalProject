{
 "cells": [
  {
   "cell_type": "code",
   "execution_count": null,
   "metadata": {},
   "outputs": [
    {
     "name": "stdout",
     "output_type": "stream",
     "text": [
      "Width: 512, Height: 512\n",
      "Mode: RGB\n"
     ]
    }
   ],
   "source": [
    "from PIL import Image\n",
    "\n",
    "# Load the image\n",
    "image_path = \"dataset/freecustom/multi_concept/doge/image/doge.jpeg\"\n",
    "image = Image.open(image_path)\n",
    "\n",
    "# Get dimensions\n",
    "width, height = image.size\n",
    "print(f\"Width: {width}, Height: {height}\")\n",
    "\n",
    "# If you need the mode (e.g., RGB, grayscale)\n",
    "print(f\"Mode: {image.mode}\")\n"
   ]
  },
  {
   "cell_type": "code",
   "execution_count": 2,
   "metadata": {},
   "outputs": [
    {
     "name": "stdout",
     "output_type": "stream",
     "text": [
      "Width: 512, Height: 512, Channels: 3\n"
     ]
    }
   ],
   "source": [
    "import cv2\n",
    "\n",
    "# Load the image\n",
    "image_path = \"dataset/freecustom/multi_concept/doge/image/doge.jpeg\"\n",
    "image = cv2.imread(image_path)\n",
    "\n",
    "# Get dimensions\n",
    "height, width, channels = image.shape  # Note: shape gives (height, width, channels)\n",
    "print(f\"Width: {width}, Height: {height}, Channels: {channels}\")\n"
   ]
  }
 ],
 "metadata": {
  "kernelspec": {
   "display_name": "freecustom",
   "language": "python",
   "name": "python3"
  },
  "language_info": {
   "codemirror_mode": {
    "name": "ipython",
    "version": 3
   },
   "file_extension": ".py",
   "mimetype": "text/x-python",
   "name": "python",
   "nbconvert_exporter": "python",
   "pygments_lexer": "ipython3",
   "version": "3.10.15"
  }
 },
 "nbformat": 4,
 "nbformat_minor": 2
}
